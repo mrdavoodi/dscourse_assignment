{
  "nbformat": 4,
  "nbformat_minor": 0,
  "metadata": {
    "colab": {
      "provenance": []
    },
    "kernelspec": {
      "name": "python3",
      "display_name": "Python 3"
    },
    "language_info": {
      "name": "python"
    }
  },
  "cells": [
    {
      "cell_type": "markdown",
      "source": [
        "#Data Sience Tools and Ecosystem"
      ],
      "metadata": {
        "id": "Sxi2gFO3JuQV"
      }
    },
    {
      "cell_type": "markdown",
      "source": [
        "In this notebook, Data Science Tools and Ecosystem are summerized."
      ],
      "metadata": {
        "id": "wPgRuxK4K1st"
      }
    },
    {
      "cell_type": "markdown",
      "source": [
        "Some of popular languages that Data Scientists use are:\n",
        "1. Python\n",
        "2. R\n",
        "3. SQL"
      ],
      "metadata": {
        "id": "UWd92-kfLKXa"
      }
    },
    {
      "cell_type": "markdown",
      "source": [
        "Some of the commonly used libraries used by Data Scientists include:\n",
        "1. Pandas\n",
        "2. NumPy\n",
        "3. Matplotlib"
      ],
      "metadata": {
        "id": "PRksw0WNPXPs"
      }
    },
    {
      "cell_type": "markdown",
      "source": [
        "| Data Science Tools |\n",
        "| ------------------ |\n",
        "| MySQL |\n",
        "| MongoDB |\n",
        "| Kafka |"
      ],
      "metadata": {
        "id": "gdaezRXWPr6-"
      }
    },
    {
      "cell_type": "markdown",
      "source": [
        "###Below are a few example of evaluating arithmetic expressions in Python"
      ],
      "metadata": {
        "id": "_iQHv82CQ8Jy"
      }
    },
    {
      "cell_type": "code",
      "source": [
        "# This is a simple arithmetic expression to multiply then add integers\n",
        "(3*4)+5"
      ],
      "metadata": {
        "colab": {
          "base_uri": "https://localhost:8080/"
        },
        "id": "4mxIQ9XrRR03",
        "outputId": "1dd11095-3829-4990-9200-dacdd4b128c8"
      },
      "execution_count": null,
      "outputs": [
        {
          "output_type": "execute_result",
          "data": {
            "text/plain": [
              "17"
            ]
          },
          "metadata": {},
          "execution_count": 1
        }
      ]
    },
    {
      "cell_type": "code",
      "source": [
        "# This will convert 200 minutes to hours by dividing by 60\n",
        "minutes = 200\n",
        "hours = minutes / 60\n",
        "print(hours)"
      ],
      "metadata": {
        "colab": {
          "base_uri": "https://localhost:8080/"
        },
        "id": "9lJMVOXrSIcM",
        "outputId": "21f02339-d438-4ee1-dbad-154c11834e89"
      },
      "execution_count": null,
      "outputs": [
        {
          "output_type": "stream",
          "name": "stdout",
          "text": [
            "3.3333333333333335\n"
          ]
        }
      ]
    },
    {
      "cell_type": "markdown",
      "source": [
        "**Objectives:**\n",
        "1. List popular languages for Data Science\n",
        "2. List popular libraries for Data Science\n",
        "3. List some popular Data Science tools\n"
      ],
      "metadata": {
        "id": "edeB0969S4w1"
      }
    },
    {
      "cell_type": "markdown",
      "source": [
        "##Author\n",
        "Mohammadreza Davoodi"
      ],
      "metadata": {
        "id": "lMYrd2ZjTZqu"
      }
    }
  ]
}